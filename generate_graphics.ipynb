{
 "cells": [
  {
   "cell_type": "code",
   "execution_count": 7,
   "id": "08fdf7f5",
   "metadata": {},
   "outputs": [],
   "source": [
    "import pandas as pd\n",
    "import matplotlib.pyplot as plt\n",
    "\n",
    "df = pd.read_csv('outputs/1_top_paying_jobs.csv')\n",
    "\n",
    "plt.style.use('dark_background')\n",
    "plt.figure(figsize=(10, 6))\n",
    "\n",
    "bars = plt.barh(df['job_title'], df['salary_year_avg'], color='deepskyblue', edgecolor='white', linewidth=2)\n",
    "plt.xlabel('Average Yearly Salary')\n",
    "plt.title('10 Best Paying Data Analysis Jobs (2023)')\n",
    "plt.grid(axis='x', color='gray', linestyle='--', linewidth=0.7, alpha=0.5)\n",
    "plt.tight_layout()\n",
    "plt.savefig('images/top_paying_jobs_bar_graph.png')\n",
    "plt.close()"
   ]
  },
  {
   "cell_type": "code",
   "execution_count": 6,
   "id": "ff59c021",
   "metadata": {},
   "outputs": [],
   "source": [
    "df_skills = pd.read_csv('outputs/2_top_paying_job_skills.csv')\n",
    "\n",
    "plt.style.use('dark_background')\n",
    "plt.figure(figsize=(10, 6))\n",
    "\n",
    "skill_counts = df_skills['skills'].value_counts()\n",
    "bars_skills = plt.barh(skill_counts.index, skill_counts.values, color='deepskyblue', edgecolor='white', linewidth=2)\n",
    "plt.xlabel('Count')\n",
    "plt.title('Top Skills Frequency in High Paying Data Analysis Jobs (2023)')\n",
    "plt.grid(axis='x', color='gray', linestyle='--', linewidth=0.7, alpha=0.5)\n",
    "plt.tight_layout()\n",
    "plt.savefig('images/top_paying_job_skills_bar_graph.png')\n",
    "plt.close()"
   ]
  }
 ],
 "metadata": {
  "kernelspec": {
   "display_name": "ml",
   "language": "python",
   "name": "python3"
  },
  "language_info": {
   "codemirror_mode": {
    "name": "ipython",
    "version": 3
   },
   "file_extension": ".py",
   "mimetype": "text/x-python",
   "name": "python",
   "nbconvert_exporter": "python",
   "pygments_lexer": "ipython3",
   "version": "3.12.7"
  }
 },
 "nbformat": 4,
 "nbformat_minor": 5
}
